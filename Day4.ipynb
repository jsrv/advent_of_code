{
 "cells": [
  {
   "cell_type": "code",
   "execution_count": 11,
   "metadata": {},
   "outputs": [],
   "source": [
    "import numpy as np\n",
    "with open('day4_input.txt') as f:\n",
    "    passports_raw = f.read()"
   ]
  },
  {
   "cell_type": "code",
   "execution_count": 13,
   "metadata": {},
   "outputs": [],
   "source": [
    "passports = passports_raw.split('\\n\\n')\n",
    "opt = 'cid'"
   ]
  },
  {
   "cell_type": "markdown",
   "metadata": {},
   "source": [
    "# Part 1"
   ]
  },
  {
   "cell_type": "code",
   "execution_count": 14,
   "metadata": {},
   "outputs": [],
   "source": [
    "passports_seg = [[seg.split(':')[0] for seg in passport.split()] for passport in passports]"
   ]
  },
  {
   "cell_type": "code",
   "execution_count": 15,
   "metadata": {},
   "outputs": [
    {
     "data": {
      "text/plain": [
       "200"
      ]
     },
     "execution_count": 15,
     "metadata": {},
     "output_type": "execute_result"
    }
   ],
   "source": [
    "np.sum([ 1 if len(p)==8 else 1 if len(p)==7 and opt not in p else 0 for p in passports_seg])"
   ]
  },
  {
   "cell_type": "markdown",
   "metadata": {},
   "source": [
    "# Part 2"
   ]
  },
  {
   "cell_type": "markdown",
   "metadata": {},
   "source": [
    "## Rules\n",
    "- byr (Birth Year) - four digits; at least 1920 and at most 2002.\n",
    "- iyr (Issue Year) - four digits; at least 2010 and at most 2020.\n",
    "- eyr (Expiration Year) - four digits; at least 2020 and at most 2030.\n",
    "- hgt (Height) - a number followed by either cm or in:\n",
    "- If cm, the number must be at least 150 and at most 193.\n",
    "- If in, the number must be at least 59 and at most 76.\n",
    "- hcl (Hair Color) - a # followed by exactly six characters 0-9 or a-f.\n",
    "- ecl (Eye Color) - exactly one of: amb blu brn gry grn hzl oth.\n",
    "- pid (Passport ID) - a nine-digit number, including leading zeroes.\n",
    "- cid (Country ID) - ignored, missing or not."
   ]
  },
  {
   "cell_type": "code",
   "execution_count": 20,
   "metadata": {},
   "outputs": [],
   "source": [
    "passports_seg_dict = [{seg.split(':')[0]: seg.split(':')[1] for seg in passport.split()} for passport in passports]"
   ]
  },
  {
   "cell_type": "code",
   "execution_count": 23,
   "metadata": {},
   "outputs": [],
   "source": [
    "filtered_passports = [p for p in passports_seg_dict if len(p.keys())==8 or (len(p.keys())==7 and opt not in p.keys())]"
   ]
  },
  {
   "cell_type": "code",
   "execution_count": 34,
   "metadata": {},
   "outputs": [],
   "source": [
    "leng = lambda x, y: len(x)==y\n",
    "mini = lambda x, y: int(x)>=y\n",
    "maxi = lambda x, y: int(x)<=y\n",
    "cont = lambda x, y: x in y\n",
    "\n",
    "rules = {\n",
    "    'byr': {'mini': 1920, 'maxi': 2002},\n",
    "    'iyr': {'mini': 2010, 'maxi': 2020},\n",
    "    'eyr': {'mini': 2020, 'maxi': 2030},\n",
    "    'hgt': {'cm': {'mini': 150, 'maxi': 193},\n",
    "            'in': {'mini': 59, 'maxi': 76}}\n",
    "}"
   ]
  },
  {
   "cell_type": "code",
   "execution_count": 35,
   "metadata": {},
   "outputs": [],
   "source": [
    "import re"
   ]
  },
  {
   "cell_type": "code",
   "execution_count": 63,
   "metadata": {},
   "outputs": [
    {
     "name": "stdout",
     "output_type": "stream",
     "text": [
      "car\n"
     ]
    }
   ],
   "source": [
    "if not 0:\n",
    "    print('car')"
   ]
  },
  {
   "cell_type": "code",
   "execution_count": 61,
   "metadata": {},
   "outputs": [
    {
     "data": {
      "text/plain": [
       "0"
      ]
     },
     "execution_count": 61,
     "metadata": {},
     "output_type": "execute_result"
    }
   ],
   "source": [
    "True*False"
   ]
  },
  {
   "cell_type": "code",
   "execution_count": 68,
   "metadata": {},
   "outputs": [],
   "source": [
    "validos = []\n",
    "for pass_dict in filtered_passports:\n",
    "    good = True\n",
    "    for key in pass_dict.keys():\n",
    "        val = pass_dict[key]\n",
    "        if key in rules.keys():\n",
    "            rul = rules[key]\n",
    "        \n",
    "        if key in ['byr', 'iyr', 'eyr']:\n",
    "            b = mini(val, rul['mini'])\n",
    "            c = maxi(val, rul['maxi'])\n",
    "            if (b*c) == 0:\n",
    "                good = False\n",
    "                break\n",
    "                \n",
    "        elif key == 'hgt':\n",
    "            if 'cm' in val:\n",
    "                if (not mini(val[:-2], rul['cm']['mini']) or\n",
    "                    not maxi(val[:-2], rul['cm']['maxi'])):\n",
    "                    good = False\n",
    "                    break\n",
    "            elif 'in' in val:\n",
    "                if (not mini(val[:-2], rul['in']['mini']) or\n",
    "                    not maxi(val[:-2], rul['in']['maxi'])):\n",
    "                    good = False\n",
    "                    break\n",
    "            else:\n",
    "                good = False\n",
    "                break\n",
    "                \n",
    "        elif key == 'hcl':\n",
    "            if val[0] == '#':\n",
    "                match = re.findall('^([a-f0-9]{6})$', val[1:])\n",
    "                if len(match) != 1:\n",
    "                    good = False\n",
    "                    break\n",
    "            else:\n",
    "                good = False\n",
    "                break\n",
    "                    \n",
    "        elif key == 'ecl':\n",
    "            if val not in ['amb', 'blu', 'brn', 'gry', 'grn', 'hzl', 'oth']:\n",
    "                good = False\n",
    "                break\n",
    "                \n",
    "        elif key == 'pid':\n",
    "            match = re.findall('^([0-9]{9})$', val)\n",
    "            if len(match) != 1:\n",
    "                good = False\n",
    "                break\n",
    "        \n",
    "    if good == True:\n",
    "        validos.append(pass_dict) "
   ]
  },
  {
   "cell_type": "code",
   "execution_count": 69,
   "metadata": {},
   "outputs": [
    {
     "data": {
      "text/plain": [
       "200"
      ]
     },
     "execution_count": 69,
     "metadata": {},
     "output_type": "execute_result"
    }
   ],
   "source": [
    "len(filtered_passports)"
   ]
  },
  {
   "cell_type": "code",
   "execution_count": 70,
   "metadata": {},
   "outputs": [
    {
     "data": {
      "text/plain": [
       "116"
      ]
     },
     "execution_count": 70,
     "metadata": {},
     "output_type": "execute_result"
    }
   ],
   "source": [
    "len(validos)"
   ]
  }
 ],
 "metadata": {
  "kernelspec": {
   "display_name": "Python [conda env:anaconda3]",
   "language": "python",
   "name": "conda-env-anaconda3-py"
  },
  "language_info": {
   "codemirror_mode": {
    "name": "ipython",
    "version": 3
   },
   "file_extension": ".py",
   "mimetype": "text/x-python",
   "name": "python",
   "nbconvert_exporter": "python",
   "pygments_lexer": "ipython3",
   "version": "3.8.3"
  }
 },
 "nbformat": 4,
 "nbformat_minor": 4
}
