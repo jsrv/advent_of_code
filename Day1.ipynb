{
 "cells": [
  {
   "cell_type": "code",
   "execution_count": null,
   "metadata": {},
   "outputs": [],
   "source": [
    "opts = load_the_file"
   ]
  },
  {
   "cell_type": "code",
   "execution_count": 51,
   "metadata": {},
   "outputs": [
    {
     "name": "stdout",
     "output_type": "stream",
     "text": [
      "618144\n"
     ]
    }
   ],
   "source": [
    "year = 2020\n",
    "stop = False\n",
    "opts.sort()\n",
    "u=0\n",
    "\n",
    "while stop == False:\n",
    "    i = opts[u]\n",
    "    u += 1\n",
    "    if i + opts[0] > year:\n",
    "        stop = True\n",
    "    for j in opts:\n",
    "        sol = i + j\n",
    "        if sol > year:\n",
    "            break\n",
    "        elif sol == year:\n",
    "            k = i * j\n",
    "            print(k)\n",
    "            stop=True"
   ]
  },
  {
   "cell_type": "code",
   "execution_count": 56,
   "metadata": {},
   "outputs": [
    {
     "name": "stdout",
     "output_type": "stream",
     "text": [
      "173538720\n"
     ]
    }
   ],
   "source": [
    "year = 2020\n",
    "stop = False\n",
    "opts.sort()\n",
    "u=0\n",
    "\n",
    "while stop == False:\n",
    "    i = opts[u]\n",
    "    u += 1\n",
    "    if i + opts[0] + opts[1] > year:\n",
    "        stop = True\n",
    "    midstop = False\n",
    "    for j in opts:\n",
    "        for k in opts:\n",
    "            sol = i + j + k\n",
    "            if sol > year:\n",
    "                break\n",
    "            elif sol == year:\n",
    "                midstop = True\n",
    "                stop=True\n",
    "                answer = i * j * k\n",
    "                print(answer)\n",
    "        if midstop == True:\n",
    "            break"
   ]
  },
  {
   "cell_type": "code",
   "execution_count": null,
   "metadata": {},
   "outputs": [],
   "source": []
  }
 ],
 "metadata": {
  "kernelspec": {
   "display_name": "Python [conda env:anaconda3]",
   "language": "python",
   "name": "conda-env-anaconda3-py"
  },
  "language_info": {
   "codemirror_mode": {
    "name": "ipython",
    "version": 3
   },
   "file_extension": ".py",
   "mimetype": "text/x-python",
   "name": "python",
   "nbconvert_exporter": "python",
   "pygments_lexer": "ipython3",
   "version": "3.8.3"
  }
 },
 "nbformat": 4,
 "nbformat_minor": 4
}
